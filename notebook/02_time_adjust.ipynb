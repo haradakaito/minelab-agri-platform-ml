{
 "cells": [
  {
   "cell_type": "markdown",
   "metadata": {},
   "source": [
    "# 受信時刻調整用ノートブック"
   ]
  },
  {
   "cell_type": "markdown",
   "metadata": {},
   "source": [
    "## ライブラリのインポート"
   ]
  },
  {
   "cell_type": "code",
   "execution_count": 31,
   "metadata": {},
   "outputs": [],
   "source": [
    "import json\n",
    "import numpy as np\n",
    "import pandas as pd\n",
    "from tqdm import tqdm\n",
    "\n",
    "from lib import Util"
   ]
  },
  {
   "cell_type": "markdown",
   "metadata": {},
   "source": [
    "## 設定ファイルの読み込み"
   ]
  },
  {
   "cell_type": "code",
   "execution_count": 32,
   "metadata": {},
   "outputs": [],
   "source": [
    "# 設定ファイルの読み込み\n",
    "with open(f\"{Util.get_root_dir()}/../config/config.json\", \"r\") as f:\n",
    "    config = json.load(f)"
   ]
  },
  {
   "cell_type": "markdown",
   "metadata": {},
   "source": [
    "## 受信時刻調整アルゴリズム"
   ]
  },
  {
   "cell_type": "code",
   "execution_count": 33,
   "metadata": {},
   "outputs": [],
   "source": [
    "class TimeAdjuster:\n",
    "    \"\"\"受信時刻補正を行うクラス\"\"\"\n",
    "    def __init__(self, df_dict: dict):\n",
    "        self.df_dict   = df_dict               # データフレームの辞書\n",
    "        self.time_dict = self._get_time_dict() # 各データフレームのTime列（Index）のdict\n",
    "\n",
    "    def _get_time_dict(self) -> dict:\n",
    "        \"\"\"各データフレームのTime列（Index）のdictを取得する\"\"\"\n",
    "        time_dict = {}\n",
    "        for key in self.df_dict.keys():\n",
    "            time_dict[key] = np.array(self.df_dict[key].index)\n",
    "        return time_dict\n",
    "\n",
    "    def calc_idx_time_std(self, idx: int) -> float:\n",
    "        \"\"\"time_dictの任意の列\"\"\"\n",
    "        idx_time_list = [float(self.time_dict[key][idx]) for key in self.time_dict.keys()]\n",
    "        return np.nanstd(idx_time_list)\n",
    "\n",
    "    def calc_idx_time_argmax(self, idx: int) -> int:\n",
    "        \"\"\"最大値の列を計算する\"\"\"\n",
    "        idx_time_list = [float(self.time_dict[key][idx]) for key in self.time_dict.keys()]\n",
    "        return np.nanargmax(idx_time_list)\n",
    "\n",
    "    def shift_idx_time(self, key: str, idx: int) -> None:\n",
    "        \"\"\"time_dictの任意の列をidx行から1つシフトする\"\"\"\n",
    "        shifted             = np.insert(self.time_dict[key], idx+1, self.time_dict[key][idx])\n",
    "        shifted[idx]        = np.nan\n",
    "        self.time_dict[key] = shifted\n"
   ]
  },
  {
   "cell_type": "markdown",
   "metadata": {},
   "source": [
    "## 受信時刻調整"
   ]
  },
  {
   "cell_type": "code",
   "execution_count": 34,
   "metadata": {},
   "outputs": [],
   "source": [
    "# 共通ファイルを取得\n",
    "common_file = Util.get_common_files(path_list=[f\"{Util.get_root_dir()}/../data/preprocessed-data/{field_device}/amp/\" for field_device in config[\"FieldDevice\"][\"Pcap\"]])"
   ]
  },
  {
   "cell_type": "code",
   "execution_count": null,
   "metadata": {},
   "outputs": [
    {
     "name": "stderr",
     "output_type": "stream",
     "text": [
      "100%|██████████| 4/4 [00:00<00:00, 50.92it/s]\n"
     ]
    }
   ],
   "source": [
    "ALPHA = 0.07  # 補正係数\n",
    "\n",
    "# 各ファイルに対して受信時間調整アルゴリズムを適用\n",
    "for file_name in tqdm(common_file):\n",
    "    df_dict = {}\n",
    "    for field_device in sorted(config[\"FieldDevice\"][\"Pcap\"]):\n",
    "        # ファイルのパスを取得\n",
    "        file_path = f\"{Util.get_root_dir()}/../data/preprocessed-data/{field_device}/amp/{file_name}\"\n",
    "        # データを読み込み\n",
    "        df_dict[field_device] = pd.read_csv(file_path, index_col=0)\n",
    "\n",
    "    # 受信時間調整アルゴリズムを適用\n",
    "    ta = TimeAdjuster(df_dict=df_dict)\n",
    "    for idx in range(len(ta.time_dict[list(ta.time_dict.keys())[0]])):\n",
    "        if ta.calc_idx_time_std(idx) > ALPHA:\n",
    "            argmax = ta.calc_idx_time_argmax(idx)\n",
    "            key    = list(ta.time_dict.keys())[argmax]\n",
    "            ta.shift_idx_time(key=key, idx=idx)\n",
    "\n",
    "    # 調整後のデータを保存\n",
    "    for key in ta.df_dict.keys():\n",
    "        Util.create_path(f\"{Util.get_root_dir()}/tmp/{key}/amp/\")\n",
    "        pd.DataFrame(ta.time_dict[key], columns=[\"Time\"]).to_csv(f\"{Util.get_root_dir()}/tmp/{key}/amp/{file_name}\")"
   ]
  }
 ],
 "metadata": {
  "kernelspec": {
   "display_name": ".venv",
   "language": "python",
   "name": "python3"
  },
  "language_info": {
   "codemirror_mode": {
    "name": "ipython",
    "version": 3
   },
   "file_extension": ".py",
   "mimetype": "text/x-python",
   "name": "python",
   "nbconvert_exporter": "python",
   "pygments_lexer": "ipython3",
   "version": "3.10.12"
  }
 },
 "nbformat": 4,
 "nbformat_minor": 2
}
