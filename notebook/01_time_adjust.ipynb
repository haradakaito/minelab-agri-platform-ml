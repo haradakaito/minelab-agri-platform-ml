{
 "cells": [
  {
   "cell_type": "markdown",
   "metadata": {},
   "source": [
    "# 受信時刻調整用ノートブック"
   ]
  },
  {
   "cell_type": "markdown",
   "metadata": {},
   "source": [
    "## ライブラリのインポート"
   ]
  },
  {
   "cell_type": "code",
   "execution_count": 51,
   "metadata": {},
   "outputs": [],
   "source": [
    "import json\n",
    "import numpy as np\n",
    "import pandas as pd\n",
    "from tqdm import tqdm\n",
    "\n",
    "from lib import Util"
   ]
  },
  {
   "cell_type": "markdown",
   "metadata": {},
   "source": [
    "## 設定ファイルの読み込み"
   ]
  },
  {
   "cell_type": "code",
   "execution_count": 52,
   "metadata": {},
   "outputs": [],
   "source": [
    "# 設定ファイルの読み込み\n",
    "with open(f\"{Util.get_root_dir()}/../config/config.json\", \"r\") as f:\n",
    "    config = json.load(f)"
   ]
  },
  {
   "cell_type": "markdown",
   "metadata": {},
   "source": [
    "## 受信時刻調整アルゴリズム"
   ]
  },
  {
   "cell_type": "code",
   "execution_count": 53,
   "metadata": {},
   "outputs": [],
   "source": [
    "class TimeAdjuster:\n",
    "    \"\"\"受信時刻補正を行うクラス\"\"\"\n",
    "    def __init__(self, df_dict: dict, alpha: float):\n",
    "        self.df_dict = df_dict # データフレームの辞書\n",
    "        self.alpha   = alpha   # 標準偏差の閾値\n",
    "        self.rm_idx  = set()   # 除去する行のインデックス\n",
    "\n",
    "    def calc_idx_time_std(self, idx: int) -> float:\n",
    "        \"\"\"time_dictの任意の列\"\"\"\n",
    "        idx_time_list = [float(self.df_dict[key][\"Time\"][idx]) for key in self.df_dict.keys()]\n",
    "        return np.nanstd(idx_time_list)\n",
    "\n",
    "    def calc_idx_time_argmax(self, idx: int) -> int:\n",
    "        \"\"\"最大値の列を計算する\"\"\"\n",
    "        idx_time_list = [float(self.df_dict[key][\"Time\"][idx]) for key in self.df_dict.keys()]\n",
    "        return np.nanargmax(idx_time_list)\n",
    "\n",
    "    def shift_idx_time(self, key: str, idx: int) -> None:\n",
    "        \"\"\"指定した行を1つ後ろにずらす\"\"\"\n",
    "        df                = self.df_dict[key]      # データフレーム\n",
    "        df.loc[len(df)]   = np.nan                 # 末尾に行を追加\n",
    "        df.iloc[idx+1:]   = df.iloc[idx:-1].values # idx行以降を1つシフト\n",
    "        df.iloc[idx]      = np.nan                 # idx行を空にする\n",
    "        self.df_dict[key] = df                     # 更新\n",
    "\n",
    "    def adjust_time(self, start) -> None:\n",
    "        \"\"\"受信時刻の補正を行う\"\"\"\n",
    "        for idx in range(start, len(self.df_dict[list(self.df_dict.keys())[0]][\"Time\"])):\n",
    "            # 標準偏差が閾値を超える場合\n",
    "            if self.calc_idx_time_std(idx) <= self.alpha:\n",
    "                continue\n",
    "            # 最大値の列を計算\n",
    "            argmax = self.calc_idx_time_argmax(idx)\n",
    "            key    = list(self.df_dict.keys())[argmax]\n",
    "            # 指定した行を1つ後ろにずらす\n",
    "            self.shift_idx_time(key, idx)\n",
    "            self.rm_idx.add(idx)\n",
    "            return idx\n",
    "        # rm_idxに含まれる行を全てのデータフレームから削除\n",
    "        for key in self.df_dict.keys():\n",
    "            self.df_dict[key] = self.df_dict[key].drop(self.rm_idx).reset_index(drop=True)\n",
    "        return True\n",
    "\n",
    "    def judge_df_shape(self) -> bool:\n",
    "        \"\"\"データフレームの形状が一致しているか判定する\"\"\"\n",
    "        shape = [self.df_dict[key].shape[0] for key in self.df_dict.keys()]\n",
    "        return len(set(shape)) == 1"
   ]
  },
  {
   "cell_type": "markdown",
   "metadata": {},
   "source": [
    "## 受信時刻調整"
   ]
  },
  {
   "cell_type": "code",
   "execution_count": 54,
   "metadata": {},
   "outputs": [],
   "source": [
    "# 共通ファイルを取得\n",
    "common_file = Util.get_common_files(path_list=[f\"{Util.get_root_dir()}/../data/csv-data/{field_device}/amp/\" for field_device in config[\"FieldDevice\"][\"Pcap\"]])"
   ]
  },
  {
   "cell_type": "code",
   "execution_count": 55,
   "metadata": {},
   "outputs": [
    {
     "name": "stderr",
     "output_type": "stream",
     "text": [
      " 25%|██▌       | 1/4 [00:00<00:02,  1.47it/s]"
     ]
    },
    {
     "name": "stdout",
     "output_type": "stream",
     "text": [
      "時間調整が完了しました: 2025-03-12T00-45-19.csv\n"
     ]
    },
    {
     "name": "stderr",
     "output_type": "stream",
     "text": [
      " 75%|███████▌  | 3/4 [00:02<00:00,  1.20it/s]"
     ]
    },
    {
     "name": "stdout",
     "output_type": "stream",
     "text": [
      "時間調整が完了しました: 2025-03-12T01-15-19.csv\n"
     ]
    },
    {
     "name": "stderr",
     "output_type": "stream",
     "text": [
      "100%|██████████| 4/4 [00:03<00:00,  1.32it/s]"
     ]
    },
    {
     "name": "stdout",
     "output_type": "stream",
     "text": [
      "時間調整が完了しました: 2025-03-12T01-30-20.csv\n"
     ]
    },
    {
     "name": "stderr",
     "output_type": "stream",
     "text": [
      "\n"
     ]
    }
   ],
   "source": [
    "# 共通ファイルをループ\n",
    "for file_name in tqdm(common_file):\n",
    "    # データフレームを辞書に格納\n",
    "    df_dict_original = {}\n",
    "    for field_device in sorted(config[\"FieldDevice\"][\"Pcap\"]):\n",
    "        file_path = f\"{Util.get_root_dir()}/../data/csv-data/{field_device}/amp/{file_name}\"\n",
    "        df_dict_original[field_device] = pd.read_csv(file_path, index_col=0)\n",
    "\n",
    "    # alpha を変化させながら時間調整を行う\n",
    "    for alpha in np.arange(0.001, 0.1, 0.001):\n",
    "        # df_dict_original をコピーして使用（元データを変更しない）\n",
    "        df_dict = {key: df.copy() for key, df in df_dict_original.items()}\n",
    "\n",
    "        # インスタンスを生成\n",
    "        ta = TimeAdjuster(df_dict=df_dict, alpha=alpha)\n",
    "\n",
    "        # 時間調整を行う\n",
    "        start = 0\n",
    "        try:\n",
    "            while start != True:\n",
    "                start = ta.adjust_time(start)\n",
    "        except:\n",
    "            continue\n",
    "\n",
    "        # データフレームの形状が一致しているか判定\n",
    "        if ta.judge_df_shape():\n",
    "            print(f\"時間調整が完了しました: {file_name}\")\n",
    "            # データを保存\n",
    "            for field_device in sorted(config[\"FieldDevice\"][\"Pcap\"]):\n",
    "                Util.create_path(path=f\"{Util.get_root_dir()}/../data/adjusted-data/{field_device}/amp\")\n",
    "                ta.df_dict[field_device].to_csv(f\"{Util.get_root_dir()}/../data/adjusted-data/{field_device}/amp/{file_name}\")\n",
    "            break"
   ]
  }
 ],
 "metadata": {
  "kernelspec": {
   "display_name": ".venv",
   "language": "python",
   "name": "python3"
  },
  "language_info": {
   "codemirror_mode": {
    "name": "ipython",
    "version": 3
   },
   "file_extension": ".py",
   "mimetype": "text/x-python",
   "name": "python",
   "nbconvert_exporter": "python",
   "pygments_lexer": "ipython3",
   "version": "3.10.12"
  }
 },
 "nbformat": 4,
 "nbformat_minor": 2
}
