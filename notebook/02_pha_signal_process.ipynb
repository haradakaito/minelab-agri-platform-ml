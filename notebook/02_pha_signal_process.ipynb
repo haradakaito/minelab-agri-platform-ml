{
 "cells": [
  {
   "cell_type": "markdown",
   "metadata": {},
   "source": [
    "# （位相成分）信号処理用ノートブック"
   ]
  },
  {
   "cell_type": "markdown",
   "metadata": {},
   "source": [
    "## ライブラリのインポート"
   ]
  },
  {
   "cell_type": "code",
   "execution_count": null,
   "metadata": {},
   "outputs": [],
   "source": [
    "import json\n",
    "import numpy as np\n",
    "import pandas as pd\n",
    "from tqdm import tqdm\n",
    "\n",
    "from lib import Util"
   ]
  },
  {
   "cell_type": "markdown",
   "metadata": {},
   "source": [
    "## 設定ファイルの読み込み"
   ]
  },
  {
   "cell_type": "code",
   "execution_count": null,
   "metadata": {},
   "outputs": [],
   "source": [
    "# 設定ファイルの読み込み\n",
    "with open(f\"{Util.get_root_dir()}/../config/config.json\", \"r\") as f:\n",
    "    config = json.load(f)"
   ]
  },
  {
   "cell_type": "markdown",
   "metadata": {},
   "source": [
    "## （位相成分）信号処理クラス"
   ]
  },
  {
   "cell_type": "code",
   "execution_count": null,
   "metadata": {},
   "outputs": [],
   "source": [
    "class PhaSignalProcessor:\n",
    "    \"\"\"位相成分の信号処理クラス\"\"\"\n",
    "    def __init__(self, df):\n",
    "        self.df = df"
   ]
  },
  {
   "cell_type": "markdown",
   "metadata": {},
   "source": [
    "## （位相成分）信号処理"
   ]
  },
  {
   "cell_type": "code",
   "execution_count": null,
   "metadata": {},
   "outputs": [],
   "source": [
    "# 共通ファイルを取得\n",
    "common_file = Util.get_common_files(path_list=[f\"{Util.get_root_dir()}/../data/adjusted-data/{field_device}/amp/\" for field_device in config[\"FieldDevice\"][\"Pcap\"]])"
   ]
  },
  {
   "cell_type": "code",
   "execution_count": null,
   "metadata": {},
   "outputs": [],
   "source": [
    "# 各ファイルに対して信号処理を適用\n",
    "for field_device in sorted(config[\"FieldDevice\"][\"Pcap\"]):\n",
    "    for file_name in tqdm(common_file):\n",
    "        # ファイルのパスを取得\n",
    "        file_path = f\"{Util.get_root_dir()}/../data/adjusted-data/{field_device}/amp/{file_name}\"\n",
    "        # データを読み込み（TimeカラムをIndexに設定）\n",
    "        df = pd.read_csv(file_path, index_col=0).set_index(\"Time\", drop=True)\n",
    "\n",
    "        # 信号処理を適用\n",
    "        sp = AmpSignalProcessor(df.copy())\n",
    "        ## \n",
    "\n",
    "        # データを保存\n",
    "        Util.create_path(f\"{Util.get_root_dir()}/../data/preprocessed-data/{field_device}/amp/\")\n",
    "        sp.df.to_csv(f\"{Util.get_root_dir()}/../data/preprocessed-data/{field_device}/amp/{file_name}\", index=True)"
   ]
  }
 ],
 "metadata": {
  "kernelspec": {
   "display_name": ".venv",
   "language": "python",
   "name": "python3"
  },
  "language_info": {
   "codemirror_mode": {
    "name": "ipython",
    "version": 3
   },
   "file_extension": ".py",
   "mimetype": "text/x-python",
   "name": "python",
   "nbconvert_exporter": "python",
   "pygments_lexer": "ipython3",
   "version": "3.10.12"
  }
 },
 "nbformat": 4,
 "nbformat_minor": 2
}
