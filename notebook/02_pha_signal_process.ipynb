{
 "cells": [
  {
   "cell_type": "markdown",
   "metadata": {},
   "source": [
    "# （位相成分）信号処理用ノートブック"
   ]
  },
  {
   "cell_type": "markdown",
   "metadata": {},
   "source": [
    "## ライブラリのインポート"
   ]
  },
  {
   "cell_type": "code",
   "execution_count": null,
   "metadata": {},
   "outputs": [],
   "source": [
    "import json\n",
    "import numpy as np\n",
    "import pandas as pd\n",
    "from tqdm import tqdm\n",
    "from sklearn.linear_model import LinearRegression\n",
    "from sklearn.decomposition import PCA\n",
    "from scipy.signal import stft\n",
    "\n",
    "from lib import Util"
   ]
  },
  {
   "cell_type": "markdown",
   "metadata": {},
   "source": [
    "## 設定ファイルの読み込み"
   ]
  },
  {
   "cell_type": "code",
   "execution_count": null,
   "metadata": {},
   "outputs": [],
   "source": [
    "# 設定ファイルの読み込み\n",
    "with open(f\"{Util.get_root_dir()}/../config/config.json\", \"r\") as f:\n",
    "    config = json.load(f)"
   ]
  },
  {
   "cell_type": "markdown",
   "metadata": {},
   "source": [
    "## （位相成分）信号処理クラス"
   ]
  },
  {
   "cell_type": "code",
   "execution_count": null,
   "metadata": {},
   "outputs": [],
   "source": [
    "class PhaSignalProcessor:\n",
    "    \"\"\"位相成分の信号処理クラス\"\"\"\n",
    "    def __init__(self, df):\n",
    "        self.df = df\n",
    "\n",
    "    def remove_zero_subcarriers(self, inplace:bool=False) -> pd.DataFrame:\n",
    "        \"\"\"\n",
    "        振幅成分のデータフレームから，全ての値が0のサブキャリア列を削除\n",
    "        \"\"\"\n",
    "        # すべての値が0のサブキャリア列を削除\n",
    "        df_non_null = self.df.loc[:, (self.df != 0).any(axis=0)]\n",
    "\n",
    "        if inplace:\n",
    "            self.df = df_non_null\n",
    "        else:\n",
    "            return df_non_null\n",
    "\n",
    "    def upwrap_phase(self, inplace:bool=False) -> pd.DataFrame:\n",
    "        \"\"\"\n",
    "        各サブキャリアのラップされた位相をアンラップして連続値に変換する\n",
    "        \"\"\"\n",
    "        # 位相をアンラップ\n",
    "        df_unwrap = self.df.copy()\n",
    "        for col in df_unwrap.columns:\n",
    "            df_unwrap[col] = np.unwrap(df_unwrap[col].values)\n",
    "\n",
    "        if inplace:\n",
    "            self.df = df_unwrap\n",
    "        else:\n",
    "            return df_unwrap\n",
    "\n",
    "    def remove_linear_drift(self, inplace: bool = False) -> pd.DataFrame:\n",
    "        \"\"\"\n",
    "        各時刻ごとにサブキャリア方向に線形回帰を行い、\n",
    "        ドリフト成分（傾き＋オフセット）を除去した位相成分を返す\n",
    "        \"\"\"\n",
    "\n",
    "        # 現在の列ラベル（文字列）を数値インデックスに置き換え\n",
    "        numeric_columns = list(range(len(self.df.columns)))\n",
    "        df_numeric = self.df.copy()\n",
    "        df_numeric.columns = numeric_columns\n",
    "\n",
    "        df_corrected = pd.DataFrame(index=self.df.index, columns=self.df.columns)\n",
    "\n",
    "        # 線形回帰：時刻ごと（行単位）に処理\n",
    "        subcarriers = np.array(numeric_columns).reshape(-1, 1)\n",
    "        for t in df_numeric.index:\n",
    "            phi_t               = df_numeric.loc[t].values.reshape(-1, 1)\n",
    "            model               = LinearRegression().fit(subcarriers, phi_t)\n",
    "            drift               = model.predict(subcarriers).flatten()\n",
    "            corrected           = phi_t.flatten() - drift\n",
    "            df_corrected.loc[t] = corrected\n",
    "\n",
    "        df_corrected = df_corrected.astype(float)\n",
    "\n",
    "        if inplace:\n",
    "            self.df = df_corrected\n",
    "        else:\n",
    "            return df_corrected\n",
    "\n",
    "    def pca(self, n_components:int=1, inplace=False) -> pd.DataFrame:\n",
    "        \"\"\"\n",
    "        PCAによって位相データ（時間×サブキャリア）から主成分を抽出する\n",
    "        \"\"\"\n",
    "        # PCAを実行\n",
    "        pca = PCA(n_components=n_components)\n",
    "        transformed = pca.fit_transform(self.df.values)\n",
    "        # 新しいデータフレームを作成\n",
    "        columns = [f\"PC{i+1}\" for i in range(n_components)]\n",
    "        df_pca  = pd.DataFrame(transformed, index=self.df.index, columns=columns)\n",
    "\n",
    "        if inplace:\n",
    "            self.df = df_pca\n",
    "        else:\n",
    "            return df_pca\n",
    "\n",
    "    def compute_spectrogram(self, column:str=\"PC1\", fs:float=50.0, nperseg:int=128, noverlap:int=64, inplace:bool=False) -> pd.DataFrame:\n",
    "        \"\"\"\n",
    "        指定した列の時系列データからスペクトログラムを計算する（STFTベース）\n",
    "        \"\"\"\n",
    "        # 指定した列の時系列データを取得\n",
    "        series        = self.df[column].values\n",
    "        signal_length = len(series)\n",
    "        # STFTのパラメータを調整\n",
    "        nperseg  = min(nperseg, signal_length)\n",
    "        noverlap = min(noverlap, nperseg-1)\n",
    "        # STFTを計算\n",
    "        f, t, Zxx = stft(series, fs=fs, nperseg=nperseg, noverlap=noverlap)\n",
    "        # STFTの絶対値（位相スペクトル）を取り，データフレームに変換\n",
    "        df_spec = pd.DataFrame(np.abs(Zxx).T, index=t, columns=f)\n",
    "\n",
    "        if inplace:\n",
    "            self.df = df_spec\n",
    "        else:\n",
    "            return df_spec"
   ]
  },
  {
   "cell_type": "markdown",
   "metadata": {},
   "source": [
    "## （位相成分）信号処理"
   ]
  },
  {
   "cell_type": "code",
   "execution_count": null,
   "metadata": {},
   "outputs": [],
   "source": [
    "# 共通ファイルを取得\n",
    "common_file = Util.get_common_files(path_list=[f\"{Util.get_root_dir()}/../data/adjusted-data/{field_device}/amp/\" for field_device in config[\"FieldDevice\"][\"Pcap\"]])"
   ]
  },
  {
   "cell_type": "code",
   "execution_count": null,
   "metadata": {},
   "outputs": [],
   "source": [
    "# 各ファイルに対して信号処理を適用\n",
    "for field_device in sorted(config[\"FieldDevice\"][\"Pcap\"]):\n",
    "    for file_name in tqdm(common_file):\n",
    "        # ファイルのパスを取得\n",
    "        file_path = f\"{Util.get_root_dir()}/../data/adjusted-data/{field_device}/pha/{file_name}\"\n",
    "        # データを読み込み（TimeカラムをIndexに設定）\n",
    "        df = pd.read_csv(file_path, index_col=0).set_index(\"Time\", drop=True)\n",
    "\n",
    "        # 信号処理を適用\n",
    "        sp = PhaSignalProcessor(df.copy())\n",
    "        ## 未使用サブキャリア除去\n",
    "        sp.remove_zero_subcarriers(inplace=True)\n",
    "        ## 位相アンラップ\n",
    "        sp.upwrap_phase(inplace=True)\n",
    "        ## 線形回帰（オフセット除去）\n",
    "        sp.remove_linear_drift(inplace=True)\n",
    "        ## PCA\n",
    "        sp.pca(n_components=1, inplace=True)\n",
    "        ## スペクトログラム作成（STFT）\n",
    "        sp.compute_spectrogram(column=\"PC1\", fs=1.0, nperseg=128, noverlap=64, inplace=True)\n",
    "\n",
    "        # # 一時的なデータを保存\n",
    "        # Util.create_path(f\"{Util.get_root_dir()}/tmp/{field_device}/pha/\")\n",
    "        # sp.df.to_csv(f\"{Util.get_root_dir()}/tmp/{field_device}/pha/{file_name}\", index=True)\n",
    "\n",
    "        # データを保存\n",
    "        Util.create_path(f\"{Util.get_root_dir()}/../data/preprocessed-data/{field_device}/pha/\")\n",
    "        sp.df.to_csv(f\"{Util.get_root_dir()}/../data/preprocessed-data/{field_device}/pha/{file_name}\", index=True)"
   ]
  }
 ],
 "metadata": {
  "kernelspec": {
   "display_name": ".venv",
   "language": "python",
   "name": "python3"
  },
  "language_info": {
   "codemirror_mode": {
    "name": "ipython",
    "version": 3
   },
   "file_extension": ".py",
   "mimetype": "text/x-python",
   "name": "python",
   "nbconvert_exporter": "python",
   "pygments_lexer": "ipython3",
   "version": "3.10.12"
  }
 },
 "nbformat": 4,
 "nbformat_minor": 2
}
