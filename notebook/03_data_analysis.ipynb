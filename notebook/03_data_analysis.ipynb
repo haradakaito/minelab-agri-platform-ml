{
 "cells": [
  {
   "cell_type": "markdown",
   "metadata": {},
   "source": [
    "# データ分析用ノートブック"
   ]
  },
  {
   "cell_type": "markdown",
   "metadata": {},
   "source": [
    "## ライブラリのインポート"
   ]
  },
  {
   "cell_type": "code",
   "execution_count": 25,
   "metadata": {},
   "outputs": [],
   "source": [
    "import json\n",
    "import pandas as pd\n",
    "import numpy as np\n",
    "import matplotlib.pyplot as plt\n",
    "import seaborn as sns\n",
    "from tqdm import tqdm\n",
    "\n",
    "from lib import Util"
   ]
  },
  {
   "cell_type": "markdown",
   "metadata": {},
   "source": [
    "## 設定ファイルの読み込み"
   ]
  },
  {
   "cell_type": "code",
   "execution_count": 26,
   "metadata": {},
   "outputs": [],
   "source": [
    "# 設定ファイルの読み込み\n",
    "with open(f\"{Util.get_root_dir()}/../config/config.json\", \"r\") as f:\n",
    "    config = json.load(f)"
   ]
  },
  {
   "cell_type": "markdown",
   "metadata": {},
   "source": [
    "## サブキャリア間の相関分析"
   ]
  },
  {
   "cell_type": "code",
   "execution_count": 27,
   "metadata": {},
   "outputs": [],
   "source": [
    "# 共通ファイルを取得\n",
    "common_file = Util.get_common_files(path_list=[f\"{Util.get_root_dir()}/../data/preprocessed-data/{field_device}/amp/\" for field_device in config[\"FieldDevice\"][\"Pcap\"]])"
   ]
  },
  {
   "cell_type": "markdown",
   "metadata": {},
   "source": [
    "### ヒートマップ"
   ]
  },
  {
   "cell_type": "code",
   "execution_count": 28,
   "metadata": {},
   "outputs": [
    {
     "name": "stderr",
     "output_type": "stream",
     "text": [
      "100%|██████████| 4/4 [00:40<00:00, 10.24s/it]\n"
     ]
    }
   ],
   "source": [
    "# 各ファイルに対して相関係数のヒートマップを描画\n",
    "file_type = \"pha\"\n",
    "for field_device in tqdm(config[\"FieldDevice\"][\"Pcap\"]):\n",
    "    for file_name in common_file:\n",
    "        # ファイルの読み込み\n",
    "        df = pd.read_csv(f\"{Util.get_root_dir()}/../data/preprocessed-data/{field_device}/{file_type}/{file_name}\", index_col=0)\n",
    "\n",
    "        # 相関係数のヒートマップを描画\n",
    "        figure = plt.figure(figsize=(100, 100))\n",
    "        sns.heatmap(df.corr(), cmap=\"coolwarm\", linewidths=0.2)\n",
    "        plt.title(f\"Correlation Coefficient Heatmap of {field_device} {Util.remove_extension(file_name)}\")\n",
    "        plt.tight_layout()\n",
    "\n",
    "        # プロットを保存\n",
    "        Util.create_path(f\"{Util.get_root_dir()}/documents/heatmap/{field_device}/{file_type}/\")\n",
    "        plt.savefig(f\"{Util.get_root_dir()}/documents/heatmap/{field_device}/{file_type}/{Util.remove_extension(file_name)}.png\", bbox_inches=\"tight\")\n",
    "        plt.close()"
   ]
  },
  {
   "cell_type": "markdown",
   "metadata": {},
   "source": [
    "## 受信時刻分析"
   ]
  },
  {
   "cell_type": "code",
   "execution_count": 29,
   "metadata": {},
   "outputs": [],
   "source": [
    "# 共通ファイルを取得\n",
    "common_file = Util.get_common_files(path_list=[f\"{Util.get_root_dir()}/../data/adjusted-data/{field_device}/amp/\" for field_device in config[\"FieldDevice\"][\"Pcap\"]])"
   ]
  },
  {
   "cell_type": "markdown",
   "metadata": {},
   "source": [
    "### 折れ線グラフ"
   ]
  },
  {
   "cell_type": "code",
   "execution_count": 30,
   "metadata": {},
   "outputs": [
    {
     "name": "stderr",
     "output_type": "stream",
     "text": [
      "100%|██████████| 3/3 [00:00<00:00,  9.30it/s]\n"
     ]
    }
   ],
   "source": [
    "# 各ファイルに対して受信時刻の標準偏差を折れ線グラフを描画\n",
    "file_type = \"amp\"\n",
    "for file_name in tqdm(common_file):\n",
    "    df_before_list = []\n",
    "    df_after_list  = []\n",
    "    for field_device in config[\"FieldDevice\"][\"Pcap\"]:\n",
    "        # ファイルの読み込み\n",
    "        df_before = pd.read_csv(f\"{Util.get_root_dir()}/../data/csv-data/{field_device}/{file_type}/{file_name}\", index_col=0)\n",
    "        df_after  = pd.read_csv(f\"{Util.get_root_dir()}/../data/adjusted-data/{field_device}/{file_type}/{file_name}\", index_col=0)\n",
    "        # 各ファイルの受信時刻をリストに追加\n",
    "        df_before_list.append(list(df_before[\"Time\"]))\n",
    "        df_after_list.append(list(df_after[\"Time\"]))\n",
    "\n",
    "    # 各行の標準偏差を計算\n",
    "    df_before[\"std\"] = pd.DataFrame(df_before_list).T.std(axis=1)\n",
    "    df_after[\"std\"]  = pd.DataFrame(df_after_list).T.std(axis=1)\n",
    "\n",
    "    # 折れ線グラフを重ねて描画\n",
    "    figure = plt.figure(figsize=(10, 5))\n",
    "    sns.lineplot(data=df_before[\"std\"], label=\"Before\")\n",
    "    sns.lineplot(data=df_after[\"std\"], label=\"After\")\n",
    "    plt.xlabel(\"Time\")\n",
    "    plt.ylabel(\"Standard Deviation\")\n",
    "    plt.title(f\"Standard Deviation of Received Time ({Util.remove_extension(file_name)})\")\n",
    "    plt.legend()\n",
    "\n",
    "    # プロットを保存\n",
    "    Util.create_path(f\"{Util.get_root_dir()}/documents/lineplot/adjust_time/{file_type}/\")\n",
    "    plt.savefig(f\"{Util.get_root_dir()}/documents/lineplot/adjust_time/{file_type}/{Util.remove_extension(file_name)}.png\", bbox_inches=\"tight\")\n",
    "    plt.close()\n"
   ]
  },
  {
   "cell_type": "markdown",
   "metadata": {},
   "source": [
    "## 信号処理分析"
   ]
  },
  {
   "cell_type": "code",
   "execution_count": 31,
   "metadata": {},
   "outputs": [],
   "source": [
    "# 共通ファイルを取得\n",
    "common_file = Util.get_common_files(path_list=[f\"{Util.get_root_dir()}/../data/preprocessed-data/{field_device}/amp/\" for field_device in config[\"FieldDevice\"][\"Pcap\"]])"
   ]
  },
  {
   "cell_type": "markdown",
   "metadata": {},
   "source": [
    "### 折れ線グラフ"
   ]
  },
  {
   "cell_type": "code",
   "execution_count": 32,
   "metadata": {},
   "outputs": [
    {
     "name": "stderr",
     "output_type": "stream",
     "text": [
      "100%|██████████| 4/4 [00:00<00:00, 81.14it/s]\n"
     ]
    }
   ],
   "source": [
    "# 各ファイルに対して信号処理後のデータをプロット\n",
    "file_type = \"amp\"\n",
    "for field_device in tqdm(config[\"FieldDevice\"][\"Pcap\"]):\n",
    "    for file_name in common_file:\n",
    "        # ファイルの読み込み\n",
    "        df = pd.read_csv(f\"{Util.get_root_dir()}/../data/preprocessed-data/{field_device}/{file_type}/{file_name}\", index_col=0)\n",
    "\n",
    "        # 信号処理後のデータをプロット\n",
    "\n",
    "        # プロットを保存\n",
    "        Util.create_path(path=f\"{Util.get_root_dir()}/documents/lineplot/signal_process/before/{field_device}/{file_type}/\")"
   ]
  }
 ],
 "metadata": {
  "kernelspec": {
   "display_name": ".venv",
   "language": "python",
   "name": "python3"
  },
  "language_info": {
   "codemirror_mode": {
    "name": "ipython",
    "version": 3
   },
   "file_extension": ".py",
   "mimetype": "text/x-python",
   "name": "python",
   "nbconvert_exporter": "python",
   "pygments_lexer": "ipython3",
   "version": "3.10.12"
  }
 },
 "nbformat": 4,
 "nbformat_minor": 2
}
