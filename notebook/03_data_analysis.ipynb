{
 "cells": [
  {
   "cell_type": "markdown",
   "metadata": {},
   "source": [
    "# データ分析用ノートブック"
   ]
  },
  {
   "cell_type": "markdown",
   "metadata": {},
   "source": [
    "## ライブラリのインポート"
   ]
  },
  {
   "cell_type": "code",
   "execution_count": null,
   "metadata": {},
   "outputs": [],
   "source": [
    "import json\n",
    "import pandas as pd\n",
    "import numpy as np\n",
    "import matplotlib.pyplot as plt\n",
    "import seaborn as sns\n",
    "from tqdm import tqdm\n",
    "\n",
    "from lib import Util"
   ]
  },
  {
   "cell_type": "markdown",
   "metadata": {},
   "source": [
    "## 設定ファイルの読み込み"
   ]
  },
  {
   "cell_type": "code",
   "execution_count": null,
   "metadata": {},
   "outputs": [],
   "source": [
    "# 設定ファイルの読み込み\n",
    "with open(f\"{Util.get_root_dir()}/../config/config.json\", \"r\") as f:\n",
    "    config = json.load(f)"
   ]
  },
  {
   "cell_type": "markdown",
   "metadata": {},
   "source": [
    "## グラフ描画クラス"
   ]
  },
  {
   "cell_type": "code",
   "execution_count": null,
   "metadata": {},
   "outputs": [],
   "source": [
    "class Plotter:\n",
    "    \"\"\"プロットを行うクラス\"\"\"\n",
    "    def __init__(self, df):\n",
    "        self.df     = df\n",
    "        self.figure = None\n",
    "\n",
    "    def heatmap(self, figsize:tuple=(100, 100), cmap:str=\"coolwarm\", linewidths:float=0.2):\n",
    "        \"\"\"ヒートマップを描画する\"\"\"\n",
    "        self.figure = plt.figure(figsize=figsize)\n",
    "        plt.title(\"Correlation Heatmap\")\n",
    "        sns.heatmap(self.df, cmap=cmap, linewidths=linewidths)\n",
    "\n",
    "    def save_fig(self, path:str):\n",
    "        \"\"\"図を保存する\"\"\"\n",
    "        plt.savefig(path)\n",
    "        plt.close()"
   ]
  },
  {
   "cell_type": "markdown",
   "metadata": {},
   "source": [
    "## サブキャリア間の相関分析"
   ]
  },
  {
   "cell_type": "code",
   "execution_count": null,
   "metadata": {},
   "outputs": [],
   "source": [
    "# 共通ファイルを取得\n",
    "common_file = Util.get_common_files(path_list=[f\"{Util.get_root_dir()}/../data/preprocessed-data/{field_device}/amp/\" for field_device in config[\"FieldDevice\"][\"Pcap\"]])"
   ]
  },
  {
   "cell_type": "markdown",
   "metadata": {},
   "source": [
    "### ヒートマップ"
   ]
  },
  {
   "cell_type": "code",
   "execution_count": null,
   "metadata": {},
   "outputs": [],
   "source": [
    "# 各ファイルに対して相関係数のヒートマップを描画\n",
    "for field_device in config[\"FieldDevice\"][\"Pcap\"]:\n",
    "    for file_name in tqdm(common_file):\n",
    "        # ファイルの読み込み\n",
    "        df = pd.read_csv(f\"{Util.get_root_dir()}/../data/preprocessed-data/{field_device}/amp/{file_name}\", index_col=0)\n",
    "        # 相関係数のヒートマップを描画\n",
    "        plotter = Plotter(df=df.corr())\n",
    "        plotter.heatmap()\n",
    "        Util.create_path(f\"{Util.get_root_dir()}/documents/{field_device}/amp/\")\n",
    "        plotter.save_fig(f\"{Util.get_root_dir()}/documents/{field_device}/amp/{Util.remove_extension(file_name)}.png\")"
   ]
  }
 ],
 "metadata": {
  "kernelspec": {
   "display_name": ".venv",
   "language": "python",
   "name": "python3"
  },
  "language_info": {
   "codemirror_mode": {
    "name": "ipython",
    "version": 3
   },
   "file_extension": ".py",
   "mimetype": "text/x-python",
   "name": "python",
   "nbconvert_exporter": "python",
   "pygments_lexer": "ipython3",
   "version": "3.10.12"
  }
 },
 "nbformat": 4,
 "nbformat_minor": 2
}
