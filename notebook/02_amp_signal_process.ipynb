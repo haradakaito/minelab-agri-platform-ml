{
 "cells": [
  {
   "cell_type": "markdown",
   "metadata": {},
   "source": [
    "# （振幅成分）信号処理用ノートブック"
   ]
  },
  {
   "cell_type": "markdown",
   "metadata": {},
   "source": [
    "## ライブラリのインポート"
   ]
  },
  {
   "cell_type": "code",
   "execution_count": null,
   "metadata": {},
   "outputs": [],
   "source": [
    "import json\n",
    "import numpy as np\n",
    "import pandas as pd\n",
    "from tqdm import tqdm\n",
    "from scipy.signal import butter, filtfilt, stft\n",
    "from sklearn.decomposition import PCA\n",
    "\n",
    "from lib import Util"
   ]
  },
  {
   "cell_type": "markdown",
   "metadata": {},
   "source": [
    "## 設定ファイルの読み込み"
   ]
  },
  {
   "cell_type": "code",
   "execution_count": null,
   "metadata": {},
   "outputs": [],
   "source": [
    "# 設定ファイルの読み込み\n",
    "with open(f\"{Util.get_root_dir()}/../config/config.json\", \"r\") as f:\n",
    "    config = json.load(f)"
   ]
  },
  {
   "cell_type": "markdown",
   "metadata": {},
   "source": [
    "## （振幅成分）信号処理クラス"
   ]
  },
  {
   "cell_type": "code",
   "execution_count": null,
   "metadata": {},
   "outputs": [],
   "source": [
    "class AmpSignalProcessor:\n",
    "    \"\"\"振幅成分の信号処理クラス\"\"\"\n",
    "    def __init__(self, df):\n",
    "        self.df = df\n",
    "\n",
    "    def remove_zero_subcarriers(self, inplace:bool=False) -> pd.DataFrame:\n",
    "        \"\"\"\n",
    "        振幅成分のデータフレームから，全ての値が0のサブキャリア列を削除\n",
    "        \"\"\"\n",
    "        # すべての値が0のサブキャリア列を削除\n",
    "        df_non_null = self.df.loc[:, (self.df != 0).any(axis=0)]\n",
    "\n",
    "        if inplace:\n",
    "            self.df = df_non_null\n",
    "        else:\n",
    "            return df_non_null\n",
    "\n",
    "    def normalize_by_mean(self, inplace:bool=False) -> pd.DataFrame:\n",
    "        \"\"\"\n",
    "        各時刻ごとに，全サブキャリアの平均値で正規化された\n",
    "        振幅成分（サブキャリア×時間）を返す\n",
    "        \"\"\"\n",
    "        # 各時刻ごとに平均を計算\n",
    "        df_mean = self.df.mean(axis=1)\n",
    "        # 各値を各行の平均で除算して正規化\n",
    "        df_norm = self.df.div(df_mean, axis=0)\n",
    "\n",
    "        if inplace:\n",
    "            self.df = df_norm\n",
    "        else:\n",
    "            return df_norm\n",
    "\n",
    "    def estimate_fs(self) -> float:\n",
    "        \"\"\"\n",
    "        インデックス（受信時刻）からサンプリング周波数（Hz）を推定する\n",
    "        \"\"\"\n",
    "        # 差分を計算\n",
    "        time_diffs = pd.Series(self.df.index).diff().dropna()\n",
    "        # timedelta64型の場合は秒に変換\n",
    "        if np.issubdtype(time_diffs.dtype, np.timedelta64):\n",
    "            # timedelta64型の場合\n",
    "            time_diffs = time_diffs.dt.total_seconds()\n",
    "        # 平均間隔の逆数\n",
    "        fs = 1.0 / time_diffs.mean()\n",
    "        return fs\n",
    "\n",
    "    def highpass_filter(self, cutoff:float=0.5, fs:float=50.0, order:int=5, inplace:bool=False) -> pd.DataFrame:\n",
    "        \"\"\"\n",
    "        振幅成分にハイパスフィルタを適応し\n",
    "        静的成分（低周波成分）を除去する\n",
    "        \"\"\"\n",
    "        # Butterworthフィルタの係数設計\n",
    "        nyq = 0.5*fs # ナイキスト周波数\n",
    "        normal_cutoff = cutoff/nyq\n",
    "        b, a = butter(order, normal_cutoff, btype=\"high\", analog=False)\n",
    "        # 各サブキャリアにフィルタを適用\n",
    "        df_filtered = self.df.copy()\n",
    "        for subcarrier in df_filtered.columns:\n",
    "            df_filtered[subcarrier] = filtfilt(b, a, df_filtered[subcarrier])\n",
    "\n",
    "        if inplace:\n",
    "            self.df = df_filtered\n",
    "        else:\n",
    "            return df_filtered\n",
    "\n",
    "    def pca(self, n_components:int=1, inplace=False) -> pd.DataFrame:\n",
    "        \"\"\"\n",
    "        PCAによって振幅データ（時間×サブキャリア）から主成分を抽出する\n",
    "        \"\"\"\n",
    "        # PCAを実行\n",
    "        pca = PCA(n_components=n_components)\n",
    "        transformed = pca.fit_transform(self.df.values)\n",
    "        # 新しいデータフレームを作成\n",
    "        columns = [f\"PC{i+1}\" for i in range(n_components)]\n",
    "        df_pca  = pd.DataFrame(transformed, index=self.df.index, columns=columns)\n",
    "\n",
    "        if inplace:\n",
    "            self.df = df_pca\n",
    "        else:\n",
    "            return df_pca\n",
    "\n",
    "    def compute_spectrogram(self, column:str=\"PC1\", fs:float=50.0, nperseg:int=128, noverlap:int=64, inplace:bool=False) -> pd.DataFrame:\n",
    "        \"\"\"\n",
    "        指定した列の時系列データからスペクトログラムを計算する（STFTベース）\n",
    "        \"\"\"\n",
    "        # 指定した列の時系列データを取得\n",
    "        series        = self.df[column].values\n",
    "        signal_length = len(series)\n",
    "        # STFTのパラメータを調整\n",
    "        nperseg  = min(nperseg, signal_length)\n",
    "        noverlap = min(noverlap, nperseg-1)\n",
    "        # STFTを計算\n",
    "        f, t, Zxx = stft(series, fs=fs, nperseg=nperseg, noverlap=noverlap)\n",
    "        # STFTの絶対値（振幅スペクトル）を取り，データフレームに変換\n",
    "        df_spec = pd.DataFrame(np.abs(Zxx).T, index=t, columns=f)\n",
    "\n",
    "        if inplace:\n",
    "            self.df = df_spec\n",
    "        else:\n",
    "            return df_spec"
   ]
  },
  {
   "cell_type": "markdown",
   "metadata": {},
   "source": [
    "## （振幅成分）信号処理"
   ]
  },
  {
   "cell_type": "code",
   "execution_count": null,
   "metadata": {},
   "outputs": [],
   "source": [
    "# 共通ファイルを取得\n",
    "common_file = Util.get_common_files(path_list=[f\"{Util.get_root_dir()}/../data/adjusted-data/{field_device}/amp/\" for field_device in config[\"FieldDevice\"][\"Pcap\"]])"
   ]
  },
  {
   "cell_type": "code",
   "execution_count": null,
   "metadata": {},
   "outputs": [],
   "source": [
    "# 各ファイルに対して信号処理を適用\n",
    "for field_device in sorted(config[\"FieldDevice\"][\"Pcap\"]):\n",
    "    for file_name in tqdm(common_file):\n",
    "        # ファイルのパスを取得\n",
    "        file_path = f\"{Util.get_root_dir()}/../data/adjusted-data/{field_device}/amp/{file_name}\"\n",
    "        # データを読み込み（TimeカラムをIndexに設定）\n",
    "        df = pd.read_csv(file_path, index_col=0).set_index(\"Time\", drop=True)\n",
    "\n",
    "        # 信号処理を適用\n",
    "        sp = AmpSignalProcessor(df.copy())\n",
    "        ## 未使用サブキャリア除去\n",
    "        sp.remove_zero_subcarriers(inplace=True)\n",
    "        ## 正規化スケーリング（サブキャリア平均）\n",
    "        sp.normalize_by_mean(inplace=True)\n",
    "        ## ハイパスフィルタ（静的成分除去）\n",
    "        fs = sp.estimate_fs()\n",
    "        fs = 1.0\n",
    "        sp.highpass_filter(cutoff=0.4, fs=fs, order=5, inplace=True)\n",
    "        ## PCA（主成分抽出）\n",
    "        sp.pca(n_components=1, inplace=True)\n",
    "        ## スペクトログラム作成（STFT）\n",
    "        sp.compute_spectrogram(column=\"PC1\", fs=fs, nperseg=128, noverlap=64, inplace=True)\n",
    "\n",
    "        # # 一時的なデータを保存\n",
    "        # Util.create_path(f\"{Util.get_root_dir()}/tmp/{field_device}/amp/\")\n",
    "        # sp.df.to_csv(f\"{Util.get_root_dir()}/tmp/{field_device}/amp/{file_name}\", index=True)\n",
    "\n",
    "        # データを保存\n",
    "        Util.create_path(f\"{Util.get_root_dir()}/../data/preprocessed-data/{field_device}/amp/\")\n",
    "        sp.df.to_csv(f\"{Util.get_root_dir()}/../data/preprocessed-data/{field_device}/amp/{file_name}\", index=True)"
   ]
  }
 ],
 "metadata": {
  "kernelspec": {
   "display_name": ".venv",
   "language": "python",
   "name": "python3"
  },
  "language_info": {
   "codemirror_mode": {
    "name": "ipython",
    "version": 3
   },
   "file_extension": ".py",
   "mimetype": "text/x-python",
   "name": "python",
   "nbconvert_exporter": "python",
   "pygments_lexer": "ipython3",
   "version": "3.10.12"
  }
 },
 "nbformat": 4,
 "nbformat_minor": 2
}
